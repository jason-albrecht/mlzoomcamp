import numpy as np
import pandas as pd
np.__version__
data = pd.read_csv('../../data.csv')
len(data)
display(data)
data.groupby(['Make']).count().sort_values(by='Model', ascending=False)
mm = data.groupby(['Make','Model'])

mmr = pd.DataFrame(mm)
pd.set_option('display.max_rows', None)
print(mmr)
data.isna().any()
data_na = data
data_zero = data.fillna(0)
data_na.median(numeric_only=True)
data_zero.median(numeric_only=True)
data_na['Engine Cylinders'].median()
data_na['Engine Cylinders'].mode()
data_mode = data_na['Engine Cylinders'].fillna(4.0)
data_mode = data_na.fillna(4.0)
data_mode['Engine Cylinders'].median()
data_lotus = pd.DataFrame(data.loc[(data['Make'] == 'Lotus')])
data_lotus
lotus_cols = data_lotus[["Engine HP","Engine Cylinders"]]
lotus_cols
lotus_cols.drop_duplicates()
lotus_cols_t = lotus_cols.T
x = lotus_cols.to_numpy()
xt = lotus_cols_t.to_numpy()
x
xt
XTX = np.dot(xt, x)
XTX
XTX_inv = np.linalg.inv(XTX)
XTX_inv
xt
y = [1100, 800, 750, 850, 1300, 1000, 1000, 1300, 800]
w = np.matmul(XTX_inv, xt)
w2 = np.matmul(w, y)
